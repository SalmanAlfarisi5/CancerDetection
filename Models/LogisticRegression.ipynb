{
 "cells": [
  {
   "cell_type": "code",
   "execution_count": 1,
   "id": "46282847",
   "metadata": {},
   "outputs": [],
   "source": [
    "import pandas as pd"
   ]
  },
  {
   "cell_type": "code",
   "execution_count": 4,
   "id": "829a16aa",
   "metadata": {},
   "outputs": [],
   "source": [
    "train_df = pd.read_csv(\"../Train_Set.csv\")\n",
    "test_df = pd.read_csv(\"../Test_Set.csv\")"
   ]
  },
  {
   "cell_type": "code",
   "execution_count": 12,
   "id": "a3bb1f78",
   "metadata": {},
   "outputs": [
    {
     "name": "stdout",
     "output_type": "stream",
     "text": [
      "Dataset Distribution\n",
      "(841, 351)\n",
      "(409, 351)\n",
      "Class Distribution\n",
      "class_label\n",
      "cancer     781\n",
      "healthy     60\n",
      "Name: count, dtype: int64\n",
      "class_label\n",
      "cancer     368\n",
      "healthy     41\n",
      "Name: count, dtype: int64\n"
     ]
    }
   ],
   "source": [
    "print(\"Dataset Distribution\")\n",
    "print(train_df.shape)\n",
    "print(test_df.shape)\n",
    "\n",
    "print(\"Class Distribution\")\n",
    "print(train_df[\"class_label\"].value_counts())\n",
    "print(test_df[\"class_label\"].value_counts())"
   ]
  },
  {
   "cell_type": "code",
   "execution_count": null,
   "id": "887456ea",
   "metadata": {},
   "outputs": [],
   "source": []
  }
 ],
 "metadata": {
  "kernelspec": {
   "display_name": "GPU",
   "language": "python",
   "name": "python3"
  },
  "language_info": {
   "codemirror_mode": {
    "name": "ipython",
    "version": 3
   },
   "file_extension": ".py",
   "mimetype": "text/x-python",
   "name": "python",
   "nbconvert_exporter": "python",
   "pygments_lexer": "ipython3",
   "version": "3.10.16"
  }
 },
 "nbformat": 4,
 "nbformat_minor": 5
}
