{
 "cells": [
  {
   "cell_type": "code",
   "execution_count": 14,
   "id": "46282847",
   "metadata": {},
   "outputs": [],
   "source": [
    "import pandas as pd\n",
    "\n",
    "from sklearn.preprocessing import StandardScaler\n",
    "from sklearn.linear_model import LogisticRegression\n",
    "from sklearn.metrics import recall_score, confusion_matrix"
   ]
  },
  {
   "cell_type": "code",
   "execution_count": 15,
   "id": "829a16aa",
   "metadata": {},
   "outputs": [],
   "source": [
    "train_df = pd.read_csv(\"../Train_Set.csv\")\n",
    "test_df = pd.read_csv(\"../Test_Set.csv\")"
   ]
  },
  {
   "cell_type": "code",
   "execution_count": 16,
   "id": "a3bb1f78",
   "metadata": {},
   "outputs": [
    {
     "name": "stdout",
     "output_type": "stream",
     "text": [
      "Dataset Distribution\n",
      "(841, 351)\n",
      "(409, 351)\n",
      "Class Distribution\n",
      "class_label\n",
      "cancer     781\n",
      "healthy     60\n",
      "Name: count, dtype: int64\n",
      "class_label\n",
      "cancer     368\n",
      "healthy     41\n",
      "Name: count, dtype: int64\n"
     ]
    }
   ],
   "source": [
    "print(\"Dataset Distribution\")\n",
    "print(train_df.shape)\n",
    "print(test_df.shape)\n",
    "\n",
    "print(\"Class Distribution\")\n",
    "print(train_df[\"class_label\"].value_counts())\n",
    "print(test_df[\"class_label\"].value_counts())"
   ]
  },
  {
   "cell_type": "code",
   "execution_count": 17,
   "id": "28fa079a",
   "metadata": {},
   "outputs": [],
   "source": [
    "X_train = train_df.drop(columns=[\"class_label\"])\n",
    "y_train = train_df[\"class_label\"]\n",
    "\n",
    "X_test  = test_df.drop(columns=[\"class_label\"])\n",
    "y_test  = test_df[\"class_label\"]"
   ]
  },
  {
   "cell_type": "code",
   "execution_count": 24,
   "id": "887456ea",
   "metadata": {},
   "outputs": [
    {
     "name": "stdout",
     "output_type": "stream",
     "text": [
      "Recall Train: 1.0\n",
      "Recall Test: 1.0\n",
      "                pred_cancer  pred_healthy\n",
      "actual_cancer           368             0\n",
      "actual_healthy           41             0\n"
     ]
    }
   ],
   "source": [
    "# Train Logistic Regression to optimize recall since false negative is what we try to minimize in disease classification\n",
    "# Here, we simply train plain Logistic regression then we'll improve it later on\n",
    "clf = LogisticRegression()\n",
    "\n",
    "clf.fit(X_train, y_train)\n",
    "\n",
    "y_train_pred = clf.predict(X_train)\n",
    "y_test_pred = clf.predict(X_test)\n",
    "\n",
    "print(f\"Recall Train: {recall_score(y_train, y_train_pred, pos_label='cancer')}\")\n",
    "print(f\"Recall Test: {recall_score(y_test, y_test_pred, pos_label='cancer')}\")\n",
    "cm = confusion_matrix(y_test, y_test_pred, labels=[\"cancer\", \"healthy\"])\n",
    "print(pd.DataFrame(cm,\n",
    "                   index=[\"actual_cancer\", \"actual_healthy\"],\n",
    "                   columns=[\"pred_cancer\", \"pred_healthy\"]))\n",
    "# Hihgly imbalance, everything is predicted as cancer. "
   ]
  },
  {
   "cell_type": "code",
   "execution_count": 26,
   "id": "e5a7cc2c",
   "metadata": {},
   "outputs": [
    {
     "name": "stdout",
     "output_type": "stream",
     "text": [
      "Recall Train: 0.9961587708066582\n",
      "Recall Test: 0.970108695652174\n",
      "                pred_cancer  pred_healthy\n",
      "actual_cancer           357            11\n",
      "actual_healthy           27            14\n"
     ]
    }
   ],
   "source": [
    "# We try to standardize it first\n",
    "scaler = StandardScaler()\n",
    "X_train = scaler.fit_transform(X_train)\n",
    "X_test  = scaler.transform(X_test)\n",
    "\n",
    "clf = LogisticRegression(solver=\"liblinear\")\n",
    "\n",
    "clf.fit(X_train, y_train)\n",
    "\n",
    "y_train_pred = clf.predict(X_train)\n",
    "y_test_pred = clf.predict(X_test)\n",
    "\n",
    "print(f\"Recall Train: {recall_score(y_train, y_train_pred, pos_label='cancer')}\")\n",
    "print(f\"Recall Test: {recall_score(y_test, y_test_pred, pos_label='cancer')}\")\n",
    "cm = confusion_matrix(y_test, y_test_pred, labels=[\"cancer\", \"healthy\"])\n",
    "print(pd.DataFrame(cm,\n",
    "                   index=[\"actual_cancer\", \"actual_healthy\"],\n",
    "                   columns=[\"pred_cancer\", \"pred_healthy\"]))\n"
   ]
  }
 ],
 "metadata": {
  "kernelspec": {
   "display_name": "GPU",
   "language": "python",
   "name": "python3"
  },
  "language_info": {
   "codemirror_mode": {
    "name": "ipython",
    "version": 3
   },
   "file_extension": ".py",
   "mimetype": "text/x-python",
   "name": "python",
   "nbconvert_exporter": "python",
   "pygments_lexer": "ipython3",
   "version": "3.10.16"
  }
 },
 "nbformat": 4,
 "nbformat_minor": 5
}
