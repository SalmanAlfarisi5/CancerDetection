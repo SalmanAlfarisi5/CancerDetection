{
 "cells": [
  {
   "cell_type": "code",
   "execution_count": 67,
   "id": "46282847",
   "metadata": {},
   "outputs": [],
   "source": [
    "import pandas as pd\n",
    "import numpy as np \n",
    "import matplotlib.pyplot as plt\n",
    "\n",
    "from sklearn.preprocessing import StandardScaler\n",
    "from sklearn.linear_model import LogisticRegression\n",
    "from sklearn.metrics import recall_score, confusion_matrix, precision_recall_curve, average_precision_score, precision_score"
   ]
  },
  {
   "cell_type": "code",
   "execution_count": 68,
   "id": "829a16aa",
   "metadata": {},
   "outputs": [],
   "source": [
    "train_df = pd.read_csv(\"../Train_Set.csv\")\n",
    "test_df = pd.read_csv(\"../Test_Set.csv\")"
   ]
  },
  {
   "cell_type": "code",
   "execution_count": 69,
   "id": "a3bb1f78",
   "metadata": {},
   "outputs": [
    {
     "name": "stdout",
     "output_type": "stream",
     "text": [
      "Dataset Distribution\n",
      "(841, 351)\n",
      "(409, 351)\n",
      "Class Distribution\n",
      "class_label\n",
      "cancer     781\n",
      "healthy     60\n",
      "Name: count, dtype: int64\n",
      "class_label\n",
      "cancer     368\n",
      "healthy     41\n",
      "Name: count, dtype: int64\n"
     ]
    }
   ],
   "source": [
    "print(\"Dataset Distribution\")\n",
    "print(train_df.shape)\n",
    "print(test_df.shape)\n",
    "\n",
    "print(\"Class Distribution\")\n",
    "print(train_df[\"class_label\"].value_counts())\n",
    "print(test_df[\"class_label\"].value_counts())"
   ]
  },
  {
   "cell_type": "code",
   "execution_count": 70,
   "id": "28fa079a",
   "metadata": {},
   "outputs": [],
   "source": [
    "X_train, y_train = train_df.drop(columns=[\"class_label\"]), (train_df[\"class_label\"] == \"cancer\").astype(int)\n",
    "X_test , y_test  = test_df.drop(columns=[\"class_label\"]) , (test_df[\"class_label\"] == \"cancer\").astype(int)"
   ]
  },
  {
   "cell_type": "code",
   "execution_count": 71,
   "id": "887456ea",
   "metadata": {},
   "outputs": [
    {
     "name": "stdout",
     "output_type": "stream",
     "text": [
      "Recall Train: 1.0\n",
      "Recall Test: 1.0\n",
      "                pred_cancer  pred_healthy\n",
      "actual_cancer           368             0\n",
      "actual_healthy           41             0\n"
     ]
    }
   ],
   "source": [
    "# Train Logistic Regression to optimize recall since false negative is what we try to minimize in disease classification\n",
    "# Here, we simply train plain Logistic regression then we'll improve it later on\n",
    "clf = LogisticRegression()\n",
    "\n",
    "clf.fit(X_train, y_train)\n",
    "\n",
    "y_train_pred = clf.predict(X_train)\n",
    "y_test_pred = clf.predict(X_test)\n",
    "\n",
    "print(f\"Recall Train: {recall_score(y_train, y_train_pred)}\")\n",
    "print(f\"Recall Test: {recall_score(y_test, y_test_pred)}\")\n",
    "cm = confusion_matrix(y_test, y_test_pred, labels=[1,0])\n",
    "print(pd.DataFrame(cm,\n",
    "                   index=[\"actual_cancer\", \"actual_healthy\"],\n",
    "                   columns=[\"pred_cancer\", \"pred_healthy\"]))\n",
    "# Hihgly imbalance, everything is predicted as cancer. "
   ]
  },
  {
   "cell_type": "code",
   "execution_count": 72,
   "id": "2c316303",
   "metadata": {},
   "outputs": [
    {
     "data": {
      "image/png": "[encoded data removed]",
      "text/plain": [
       "<Figure size 640x480 with 1 Axes>"
      ]
     },
     "metadata": {},
     "output_type": "display_data"
    }
   ],
   "source": [
    "y_score = clf.predict_proba(X_test)[:, 1]           # prob of cancer\n",
    "precision, recall, thresholds = precision_recall_curve(y_test, y_score)\n",
    "ap = average_precision_score(y_test, y_score)\n",
    "\n",
    "plt.figure()\n",
    "plt.step(recall, precision, where=\"post\")\n",
    "plt.xlabel(\"Recall\")\n",
    "plt.ylabel(\"Precision\")\n",
    "plt.title(f\"Precision-Recall curve (AP = {ap:.3f})\")\n",
    "plt.ylim([0.0, 1.05])\n",
    "plt.xlim([0.0, 1.0])\n",
    "plt.grid(True)\n",
    "plt.show()"
   ]
  },
  {
   "cell_type": "code",
   "execution_count": 73,
   "id": "6ff075d0",
   "metadata": {},
   "outputs": [
    {
     "name": "stdout",
     "output_type": "stream",
     "text": [
      "Threshold: 0.9032291178209922\n",
      "Recall   : 0.9836956521739131\n",
      "Precision: 0.9187817258883249\n",
      "                pred_cancer  pred_healthy\n",
      "actual_cancer           362             6\n",
      "actual_healthy           32             9\n"
     ]
    }
   ],
   "source": [
    "target_recall = 0.95\n",
    "idxs = np.where(recall[:-1] >= target_recall)[0]          # align with thresholds\n",
    "best_idx = idxs[np.argmax(precision[idxs])]\n",
    "best_thr = thresholds[best_idx]\n",
    "\n",
    "y_pred_opt = (y_score >= best_thr).astype(int)\n",
    "print(\"Threshold:\", best_thr)\n",
    "print(\"Recall   :\", recall_score(y_test, y_pred_opt))\n",
    "print(\"Precision:\", precision_score(y_test, y_pred_opt))\n",
    "\n",
    "cm = confusion_matrix(y_test, y_pred_opt, labels=[1, 0])\n",
    "print(pd.DataFrame(cm,\n",
    "                   index=[\"actual_cancer\", \"actual_healthy\"],\n",
    "                   columns=[\"pred_cancer\", \"pred_healthy\"]))"
   ]
  },
  {
   "cell_type": "code",
   "execution_count": 74,
   "id": "e5a7cc2c",
   "metadata": {},
   "outputs": [
    {
     "name": "stdout",
     "output_type": "stream",
     "text": [
      "Recall Train: 0.9961587708066582\n",
      "Recall Test: 0.970108695652174\n",
      "                pred_cancer  pred_healthy\n",
      "actual_cancer           357            11\n",
      "actual_healthy           27            14\n"
     ]
    }
   ],
   "source": [
    "# We try to standardize it first\n",
    "scaler = StandardScaler()\n",
    "X_train = scaler.fit_transform(X_train)\n",
    "X_test  = scaler.transform(X_test)\n",
    "\n",
    "clf = LogisticRegression(solver=\"liblinear\")\n",
    "\n",
    "clf.fit(X_train, y_train)\n",
    "\n",
    "y_train_pred = clf.predict(X_train)\n",
    "y_test_pred = clf.predict(X_test)\n",
    "\n",
    "print(f\"Recall Train: {recall_score(y_train, y_train_pred)}\")\n",
    "print(f\"Recall Test: {recall_score(y_test, y_test_pred)}\")\n",
    "cm = confusion_matrix(y_test, y_test_pred, labels=[1,0])\n",
    "print(pd.DataFrame(cm,\n",
    "                   index=[\"actual_cancer\", \"actual_healthy\"],\n",
    "                   columns=[\"pred_cancer\", \"pred_healthy\"]))\n"
   ]
  },
  {
   "cell_type": "code",
   "execution_count": 75,
   "id": "99605cc5",
   "metadata": {},
   "outputs": [
    {
     "data": {
      "image/png": "[encoded data removed]",
      "text/plain": [
       "<Figure size 640x480 with 1 Axes>"
      ]
     },
     "metadata": {},
     "output_type": "display_data"
    }
   ],
   "source": [
    "y_score = clf.predict_proba(X_test)[:, 1]           # prob of cancer\n",
    "precision, recall, thresholds = precision_recall_curve(y_test, y_score)\n",
    "ap = average_precision_score(y_test, y_score)\n",
    "\n",
    "plt.figure()\n",
    "plt.step(recall, precision, where=\"post\")\n",
    "plt.xlabel(\"Recall\")\n",
    "plt.ylabel(\"Precision\")\n",
    "plt.title(f\"Precision-Recall curve (AP = {ap:.3f})\")\n",
    "plt.ylim([0.0, 1.05])\n",
    "plt.xlim([0.0, 1.0])\n",
    "plt.grid(True)\n",
    "plt.show()"
   ]
  },
  {
   "cell_type": "code",
   "execution_count": 76,
   "id": "550e382d",
   "metadata": {},
   "outputs": [
    {
     "name": "stdout",
     "output_type": "stream",
     "text": [
      "Threshold: 0.7647365987292043\n",
      "Recall   : 0.9510869565217391\n",
      "Precision: 0.9749303621169917\n",
      "                pred_cancer  pred_healthy\n",
      "actual_cancer           350            18\n",
      "actual_healthy            9            32\n"
     ]
    }
   ],
   "source": [
    "target_recall = 0.95\n",
    "idxs = np.where(recall[:-1] >= target_recall)[0]          # align with thresholds\n",
    "best_idx = idxs[np.argmax(precision[idxs])]\n",
    "best_thr = thresholds[best_idx]\n",
    "\n",
    "y_pred_opt = (y_score >= best_thr).astype(int)\n",
    "print(\"Threshold:\", best_thr)\n",
    "print(\"Recall   :\", recall_score(y_test, y_pred_opt))\n",
    "print(\"Precision:\", precision_score(y_test, y_pred_opt))\n",
    "\n",
    "cm = confusion_matrix(y_test, y_pred_opt, labels=[1, 0])\n",
    "print(pd.DataFrame(cm,\n",
    "                   index=[\"actual_cancer\", \"actual_healthy\"],\n",
    "                   columns=[\"pred_cancer\", \"pred_healthy\"]))"
   ]
  }
 ],
 "metadata": {
  "kernelspec": {
   "display_name": "GPU",
   "language": "python",
   "name": "python3"
  },
  "language_info": {
   "codemirror_mode": {
    "name": "ipython",
    "version": 3
   },
   "file_extension": ".py",
   "mimetype": "text/x-python",
   "name": "python",
   "nbconvert_exporter": "python",
   "pygments_lexer": "ipython3",
   "version": "3.10.16"
  }
 },
 "nbformat": 4,
 "nbformat_minor": 5
}
