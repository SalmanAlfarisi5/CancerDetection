{
 "cells": [
  {
   "cell_type": "code",
   "execution_count": 13,
   "id": "359f952a",
   "metadata": {},
   "outputs": [],
   "source": [
    "# Importing necessary libraries\n",
    "import pandas as pd\n",
    "import numpy as np\n",
    "from sklearn.tree import DecisionTreeClassifier\n",
    "from sklearn.metrics import precision_recall_curve, confusion_matrix, recall_score, precision_score, make_scorer\n",
    "from sklearn.model_selection import GridSearchCV, StratifiedKFold"
   ]
  },
  {
   "cell_type": "code",
   "execution_count": 14,
   "id": "a36638a7",
   "metadata": {},
   "outputs": [],
   "source": [
    "train_df = pd.read_csv(\"../Train_Set.csv\")\n",
    "test_df = pd.read_csv(\"../Test_Set.csv\")\n",
    "\n",
    "X_train, y_train = train_df.drop(columns=[\"class_label\"]), (train_df[\"class_label\"] == \"cancer\").astype(int)\n",
    "X_test , y_test  = test_df.drop(columns=[\"class_label\"]) , (test_df[\"class_label\"] == \"cancer\").astype(int)"
   ]
  },
  {
   "cell_type": "code",
   "execution_count": 18,
   "id": "84ffe898",
   "metadata": {},
   "outputs": [
    {
     "name": "stdout",
     "output_type": "stream",
     "text": [
      "0.8206521739130435\n",
      "0.937888198757764\n",
      "                pred_cancer  pred_healthy\n",
      "actual_cancer           302            66\n",
      "actual_healthy           20            21\n"
     ]
    }
   ],
   "source": [
    "# Baseline Decision Tree\n",
    "dt = DecisionTreeClassifier()\n",
    "dt.fit(X_train, y_train)\n",
    "y_test_pred = dt.predict(X_test)\n",
    "\n",
    "print(recall_score(y_test, y_test_pred))      # args are (y_true, y_pred)\n",
    "print(precision_score(y_test, y_test_pred))\n",
    "cm = confusion_matrix(y_test, y_test_pred, labels=[1, 0])\n",
    "print(pd.DataFrame(cm,\n",
    "                   index=[\"actual_cancer\", \"actual_healthy\"],\n",
    "                   columns=[\"pred_cancer\", \"pred_healthy\"]))"
   ]
  },
  {
   "cell_type": "code",
   "execution_count": 16,
   "id": "ece6d1df",
   "metadata": {},
   "outputs": [],
   "source": [
    "# Use GridSearch to find optimal hyperparameter\n",
    "param = {\n",
    "    \"max_depth\":     [None, 12, 20],\n",
    "    \"min_samples_leaf\": [1, 5],\n",
    "    \"class_weight\":  [{0:1, 1:1}, {0:1, 1:2}, {0:1, 1:3}, \"balanced\"]\n",
    "}\n",
    "\n",
    "recall1 = make_scorer(recall_score, pos_label=1)\n",
    "\n",
    "dt = GridSearchCV(\n",
    "        DecisionTreeClassifier(random_state=42),\n",
    "        param,\n",
    "        scoring=recall1,\n",
    "        cv=StratifiedKFold(5, shuffle=True, random_state=42),\n",
    "        n_jobs=-1,\n",
    "        verbose=0\n",
    "     ).fit(X_train, y_train).best_estimator_"
   ]
  },
  {
   "cell_type": "code",
   "execution_count": 17,
   "id": "d4b6f26e",
   "metadata": {},
   "outputs": [
    {
     "name": "stdout",
     "output_type": "stream",
     "text": [
      "threshold  : 0.600\n",
      "recall     : 0.962\n",
      "precision  : 0.937\n",
      "\n",
      "                pred_cancer  pred_healthy\n",
      "actual_cancer           354            14\n",
      "actual_healthy           24            17\n"
     ]
    }
   ],
   "source": [
    "proba = dt.predict_proba(X_test)[:, 1]                      # P(cancer)\n",
    "prec, rec, thr = precision_recall_curve(y_test, proba)\n",
    "idx = np.where(rec[:-1] >= 0.95)[0]                      # thresholds align with rec[:-1]\n",
    "best = idx[np.argmax(prec[idx])]\n",
    "th  = thr[best]\n",
    "\n",
    "y_pred = (proba >= th).astype(int)\n",
    "print(f\"threshold  : {th:.3f}\")\n",
    "print(f\"recall     : {recall_score(y_test, y_pred):.3f}\")\n",
    "print(f\"precision  : {precision_score(y_test, y_pred):.3f}\\n\")\n",
    "\n",
    "print(pd.DataFrame(confusion_matrix(y_test, y_pred, labels=[1,0]),\n",
    "                   index=[\"actual_cancer\", \"actual_healthy\"],\n",
    "                   columns=[\"pred_cancer\", \"pred_healthy\"]))"
   ]
  }
 ],
 "metadata": {
  "kernelspec": {
   "display_name": "GPU",
   "language": "python",
   "name": "python3"
  },
  "language_info": {
   "codemirror_mode": {
    "name": "ipython",
    "version": 3
   },
   "file_extension": ".py",
   "mimetype": "text/x-python",
   "name": "python",
   "nbconvert_exporter": "python",
   "pygments_lexer": "ipython3",
   "version": "3.10.16"
  }
 },
 "nbformat": 4,
 "nbformat_minor": 5
}
